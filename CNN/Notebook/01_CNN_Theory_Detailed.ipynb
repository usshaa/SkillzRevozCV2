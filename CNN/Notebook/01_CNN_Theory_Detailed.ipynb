{
  "cells": [
    {
      "cell_type": "markdown",
      "id": "73df6062",
      "metadata": {
        "id": "73df6062"
      },
      "source": [
        "# How Convolutional Neural Networks (CNNs) Work — Detailed, Step-by-Step Notebook\n",
        "- You will learn: convolution math, stride, padding, filters, multi-channel convolution, pooling, activations, flattening and fully connected layer."
      ]
    },
    {
      "cell_type": "markdown",
      "id": "39a00b15",
      "metadata": {
        "id": "39a00b15"
      },
      "source": [
        "## 1) Image & tensor basics\n",
        "A grayscale image is a 2D tensor (height × width). A color image (RGB) is a 3D tensor (height × width × channels). Machine learning libraries usually represent batches as 4D tensors: (batch, height, width, channels) or (batch, channels, height, width).\n",
        "\n",
        "We'll start with tiny example arrays so every calculation fits on-screen.\n"
      ]
    },
    {
      "cell_type": "code",
      "execution_count": 1,
      "id": "b90befc0",
      "metadata": {
        "colab": {
          "base_uri": "https://localhost:8080/"
        },
        "id": "b90befc0",
        "outputId": "3100a658-ee1d-4076-8021-bf8811cfae47"
      },
      "outputs": [
        {
          "output_type": "stream",
          "name": "stdout",
          "text": [
            "Grayscale image (5x5):\n",
            " [[1. 2. 3. 0. 1.]\n",
            " [4. 5. 6. 1. 2.]\n",
            " [7. 8. 9. 0. 3.]\n",
            " [1. 1. 1. 1. 1.]\n",
            " [0. 0. 0. 0. 0.]]\n"
          ]
        }
      ],
      "source": [
        "import numpy as np\n",
        "np.set_printoptions(precision=3, suppress=True)\n",
        "# small grayscale image (5x5)\n",
        "img = np.array([\n",
        "    [1, 2, 3, 0, 1],\n",
        "    [4, 5, 6, 1, 2],\n",
        "    [7, 8, 9, 0, 3],\n",
        "    [1, 1, 1, 1, 1],\n",
        "    [0, 0, 0, 0, 0]\n",
        "], dtype=float)\n",
        "print(\"Grayscale image (5x5):\\n\", img)"
      ]
    },
    {
      "cell_type": "markdown",
      "id": "af7b2338",
      "metadata": {
        "id": "af7b2338"
      },
      "source": [
        "## 2) Convolution operation — manual math\n",
        "Convolution uses a kernel (filter) that multiplies element-wise with a patch of the image and sums the results (dot product). For a 3×3 kernel sliding over a 5×5 image (no padding, stride=1), you'll get a (5-3+1)=3 sized output in each spatial dimension (3×3 output).\n"
      ]
    },
    {
      "cell_type": "code",
      "source": [
        "# 3x3 filter (edge detection-like)\n",
        "kernel = np.array([\n",
        "    [-1, -1, -1],\n",
        "    [-1,  8, -1],\n",
        "    [-1, -1, -1]\n",
        "], dtype=float)"
      ],
      "metadata": {
        "id": "Bnqme9qH8i2s"
      },
      "id": "Bnqme9qH8i2s",
      "execution_count": 3,
      "outputs": []
    },
    {
      "cell_type": "code",
      "source": [
        "print(\"Kernel:\\n\", kernel)"
      ],
      "metadata": {
        "colab": {
          "base_uri": "https://localhost:8080/"
        },
        "id": "R3HIzifp8kUG",
        "outputId": "97ce35a9-6c10-4ae4-e0af-2cfe64bc040f"
      },
      "id": "R3HIzifp8kUG",
      "execution_count": 4,
      "outputs": [
        {
          "output_type": "stream",
          "name": "stdout",
          "text": [
            "Kernel:\n",
            " [[-1. -1. -1.]\n",
            " [-1.  8. -1.]\n",
            " [-1. -1. -1.]]\n"
          ]
        }
      ]
    },
    {
      "cell_type": "code",
      "source": [
        "# Manual convolution at the top-left position (i=0,j=0)\n",
        "patch = img[0:3, 0:3]\n",
        "print(\"\\nPatch at position (0,0):\\n\", patch)"
      ],
      "metadata": {
        "colab": {
          "base_uri": "https://localhost:8080/"
        },
        "id": "qcVpV6_t8mUP",
        "outputId": "b8d4f3aa-5db4-43b6-b025-5b1cda03955c"
      },
      "id": "qcVpV6_t8mUP",
      "execution_count": 5,
      "outputs": [
        {
          "output_type": "stream",
          "name": "stdout",
          "text": [
            "\n",
            "Patch at position (0,0):\n",
            " [[1. 2. 3.]\n",
            " [4. 5. 6.]\n",
            " [7. 8. 9.]]\n"
          ]
        }
      ]
    },
    {
      "cell_type": "code",
      "execution_count": 6,
      "id": "12998f63",
      "metadata": {
        "colab": {
          "base_uri": "https://localhost:8080/"
        },
        "id": "12998f63",
        "outputId": "85e6b4b3-eb29-4eeb-8b91-7209c894e5ce"
      },
      "outputs": [
        {
          "output_type": "stream",
          "name": "stdout",
          "text": [
            "\n",
            "Element-wise product:\n",
            " [[-1. -2. -3.]\n",
            " [-4. 40. -6.]\n",
            " [-7. -8. -9.]]\n",
            "\n",
            "Dot product (sum): 0.0\n"
          ]
        }
      ],
      "source": [
        "dot = (patch * kernel).sum()\n",
        "print(\"\\nElement-wise product:\\n\", patch * kernel)\n",
        "print(\"\\nDot product (sum):\", dot)"
      ]
    },
    {
      "cell_type": "code",
      "execution_count": 7,
      "id": "b56bf6eb",
      "metadata": {
        "colab": {
          "base_uri": "https://localhost:8080/"
        },
        "id": "b56bf6eb",
        "outputId": "00e73608-d6b6-4861-a02d-73b9836e7a47"
      },
      "outputs": [
        {
          "output_type": "stream",
          "name": "stdout",
          "text": [
            "\n",
            "Full valid convolution output:\n",
            " [[  0.  20. -16.]\n",
            " [ 30.  49. -24.]\n",
            " [-18. -11.  -6.]]\n"
          ]
        }
      ],
      "source": [
        "# Compute full 'valid' convolution (no padding, stride=1) manually\n",
        "H, W = img.shape\n",
        "F, _ = kernel.shape\n",
        "out_h = H - F + 1\n",
        "out_w = W - F + 1\n",
        "output = np.zeros((out_h, out_w))\n",
        "for i in range(out_h):\n",
        "    for j in range(out_w):\n",
        "        patch = img[i:i+F, j:j+F]\n",
        "        output[i,j] = (patch * kernel).sum()\n",
        "print(\"\\nFull valid convolution output:\\n\", output)"
      ]
    },
    {
      "cell_type": "markdown",
      "id": "b13025ef",
      "metadata": {
        "id": "b13025ef"
      },
      "source": [
        "## 3) Output size formula (padding & stride)\n",
        "For input width/height `W`, filter size `F`, padding `P`, stride `S` the output size `O` is:\n",
        "\n",
        "```\n",
        "O = floor((W - F + 2P) / S) + 1\n",
        "```\n",
        "\n",
        "Let's show this with examples and verify numerically.\n"
      ]
    },
    {
      "cell_type": "code",
      "execution_count": 8,
      "id": "af3dde82",
      "metadata": {
        "colab": {
          "base_uri": "https://localhost:8080/"
        },
        "id": "af3dde82",
        "outputId": "1402b3ca-bbd1-486f-cc37-0bf5209cbe85"
      },
      "outputs": [
        {
          "output_type": "stream",
          "name": "stdout",
          "text": [
            "W=5, F=3, P=0, S=1 -> O = 3\n",
            "W=5, F=3, P=1, S=1 -> O = 5\n",
            "W=5, F=3, P=0, S=2 -> O = 2\n",
            "W=6, F=3, P=1, S=2 -> O = 3\n"
          ]
        }
      ],
      "source": [
        "def conv_output_size(W, F, P, S):\n",
        "    return (W - F + 2*P) // S + 1\n",
        "\n",
        "examples = [\n",
        "    (5, 3, 0, 1), # valid, stride 1\n",
        "    (5, 3, 1, 1), # same-ish padding, stride 1\n",
        "    (5, 3, 0, 2), # stride 2\n",
        "    (6, 3, 1, 2)  # even case\n",
        "]\n",
        "\n",
        "for W,F,P,S in examples:\n",
        "    print(f\"W={W}, F={F}, P={P}, S={S} -> O = {conv_output_size(W,F,P,S)}\")"
      ]
    },
    {
      "cell_type": "markdown",
      "id": "9c88c89c",
      "metadata": {
        "id": "9c88c89c"
      },
      "source": [
        "## 4) Multiple filters & multi-channel convolution\n",
        "For RGB images (H×W×3) a convolutional filter has the same depth as the input channels (e.g., 3). For each filter you do a per-channel convolution and **sum** them, then add a bias. If you have K filters you get K feature maps (output depth K).\n",
        "\n",
        "Mathematically, for filter k with weights w_k (shape F×F×C) and bias b_k:\n",
        "\n",
        "```\n",
        "feature_map_k[i,j] = sum_{c=1..C} sum_{u=1..F} sum_{v=1..F} w_k[u,v,c] * input[i+u-1, j+v-1, c] + b_k\n",
        "```\n",
        "\n",
        "Let's compute a small 3-channel example by hand.\n"
      ]
    },
    {
      "cell_type": "code",
      "source": [
        "# Small 3-channel 'image'  (4x4 spatial, 3 channels) to keep math tiny\n",
        "img3 = np.zeros((4,4,3), dtype=float)"
      ],
      "metadata": {
        "id": "3XgSgtkx9D9X"
      },
      "id": "3XgSgtkx9D9X",
      "execution_count": 10,
      "outputs": []
    },
    {
      "cell_type": "code",
      "source": [
        "# create a simple pattern across channels\n",
        "for c in range(3):\n",
        "    img3[:,:,c] = np.array([\n",
        "        [1+c, 2+c, 3+c, 0],\n",
        "        [4+c, 5+c, 6+c, 1],\n",
        "        [7+c, 8+c, 9+c, 0],\n",
        "        [1+c, 1+c, 1+c, 1]\n",
        "    ])"
      ],
      "metadata": {
        "id": "Kq-RIslw9FyT"
      },
      "id": "Kq-RIslw9FyT",
      "execution_count": 11,
      "outputs": []
    },
    {
      "cell_type": "code",
      "source": [
        "print(\"Sample 4x4x3 image shape:\", img3.shape)"
      ],
      "metadata": {
        "colab": {
          "base_uri": "https://localhost:8080/"
        },
        "id": "Plm33xZ29HH6",
        "outputId": "eea8fc3c-fcbb-4dc9-ecd8-22f595cc55f7"
      },
      "id": "Plm33xZ29HH6",
      "execution_count": 12,
      "outputs": [
        {
          "output_type": "stream",
          "name": "stdout",
          "text": [
            "Sample 4x4x3 image shape: (4, 4, 3)\n"
          ]
        }
      ]
    },
    {
      "cell_type": "code",
      "source": [
        "# Create 2 filters (F=3) each with depth 3\n",
        "np.random.seed(0)\n",
        "filters = np.random.randn(2, 3, 3, 3) * 0.2  # shape (K, F, F, C)\n",
        "biases = np.array([0.1, -0.05])"
      ],
      "metadata": {
        "id": "ksvKszik9Jc0"
      },
      "id": "ksvKszik9Jc0",
      "execution_count": 13,
      "outputs": []
    },
    {
      "cell_type": "code",
      "execution_count": 14,
      "id": "70312575",
      "metadata": {
        "colab": {
          "base_uri": "https://localhost:8080/"
        },
        "id": "70312575",
        "outputId": "aede5292-79ba-4eb1-fd8e-06324776327b"
      },
      "outputs": [
        {
          "output_type": "stream",
          "name": "stdout",
          "text": [
            "\n",
            "Filter 0 (3x3x3) slice for channel 0:\n",
            " [[0.353 0.448 0.19 ]\n",
            " [0.082 0.152 0.067]\n",
            " [0.063 0.131 0.454]]\n",
            "\n",
            "Biases: [ 0.1  -0.05]\n"
          ]
        }
      ],
      "source": [
        "print(\"\\nFilter 0 (3x3x3) slice for channel 0:\\n\", filters[0,:,:,0])\n",
        "print(\"\\nBiases:\", biases)"
      ]
    },
    {
      "cell_type": "code",
      "source": [
        "# Compute 'valid' convolution for both filters (K=2)\n",
        "H,W,C = img3.shape\n",
        "F = 3\n",
        "out_h = H - F + 1\n",
        "out_w = W - F + 1\n",
        "feature_maps = np.zeros((2, out_h, out_w))\n",
        "for k in range(2):\n",
        "    for i in range(out_h):\n",
        "        for j in range(out_w):\n",
        "            total = 0.0\n",
        "            for c in range(C):\n",
        "                patch = img3[i:i+F, j:j+F, c]\n",
        "                total += (patch * filters[k,:,:,c]).sum()\n",
        "            total += biases[k]\n",
        "            feature_maps[k,i,j] = total"
      ],
      "metadata": {
        "id": "L-Jt-a4P9S3c"
      },
      "id": "L-Jt-a4P9S3c",
      "execution_count": 15,
      "outputs": []
    },
    {
      "cell_type": "code",
      "execution_count": 16,
      "id": "ebba218e",
      "metadata": {
        "colab": {
          "base_uri": "https://localhost:8080/"
        },
        "id": "ebba218e",
        "outputId": "a9afa95d-bb97-4cd1-b73e-41032ad03647"
      },
      "outputs": [
        {
          "output_type": "stream",
          "name": "stdout",
          "text": [
            "\n",
            "Feature maps shape (K, out_h, out_w): (2, 2, 2)\n",
            "\n",
            "Feature map 0:\n",
            " [[ 5.562  3.558]\n",
            " [13.968 12.401]]\n",
            "\n",
            "Feature map 1:\n",
            " [[-11.18   -7.248]\n",
            " [ -4.608  -1.216]]\n"
          ]
        }
      ],
      "source": [
        "print(\"\\nFeature maps shape (K, out_h, out_w):\", feature_maps.shape)\n",
        "print(\"\\nFeature map 0:\\n\", feature_maps[0])\n",
        "print(\"\\nFeature map 1:\\n\", feature_maps[1])"
      ]
    },
    {
      "cell_type": "markdown",
      "id": "062b9382",
      "metadata": {
        "id": "062b9382"
      },
      "source": [
        "## 5) Stride & Padding visual examples\n",
        "Let's show how different padding (P) and stride (S) values change the convolution outputs for the small grayscale image. We'll implement a helper that applies padding then computes the convolution with stride.\n"
      ]
    },
    {
      "cell_type": "code",
      "source": [
        "def apply_conv(input_img, kernel, pad=0, stride=1):\n",
        "    # pad\n",
        "    if pad > 0:\n",
        "        input_p = np.pad(input_img, ((pad,pad),(pad,pad)), mode='constant', constant_values=0)\n",
        "    else:\n",
        "        input_p = input_img.copy()\n",
        "    H, W = input_p.shape\n",
        "    F = kernel.shape[0]\n",
        "    out_h = (H - F) // stride + 1\n",
        "    out_w = (W - F) // stride + 1\n",
        "    out = np.zeros((out_h, out_w))\n",
        "    for i in range(out_h):\n",
        "        for j in range(out_w):\n",
        "            i0 = i * stride\n",
        "            j0 = j * stride\n",
        "            patch = input_p[i0:i0+F, j0:j0+F]\n",
        "            out[i,j] = (patch * kernel).sum()\n",
        "    return input_p, out"
      ],
      "metadata": {
        "id": "QtJly3MD9byz"
      },
      "id": "QtJly3MD9byz",
      "execution_count": 17,
      "outputs": []
    },
    {
      "cell_type": "code",
      "source": [
        "cases = [\n",
        "    dict(pad=0, stride=1),\n",
        "    dict(pad=1, stride=1),  # 'same' style\n",
        "    dict(pad=0, stride=2)\n",
        "]"
      ],
      "metadata": {
        "id": "OE90n46u9efN"
      },
      "id": "OE90n46u9efN",
      "execution_count": 18,
      "outputs": []
    },
    {
      "cell_type": "code",
      "execution_count": 19,
      "id": "5e46627c",
      "metadata": {
        "colab": {
          "base_uri": "https://localhost:8080/"
        },
        "id": "5e46627c",
        "outputId": "cf8b0e65-2e64-4359-e9d6-2546bdb01e7e"
      },
      "outputs": [
        {
          "output_type": "stream",
          "name": "stdout",
          "text": [
            "pad=0, stride=1 -> padded shape: (5, 5), output shape: (3, 3)\n",
            "[[  0.  20. -16.]\n",
            " [ 30.  49. -24.]\n",
            " [-18. -11.  -6.]]\n",
            "\n",
            "pad=1, stride=1 -> padded shape: (7, 7), output shape: (5, 5)\n",
            "[[ -3.  -3.  10. -13.   5.]\n",
            " [  9.   0.  20. -16.  11.]\n",
            " [ 37.  30.  49. -24.  19.]\n",
            " [ -8. -18. -11.  -6.   4.]\n",
            " [ -2.  -3.  -3.  -3.  -2.]]\n",
            "\n",
            "pad=0, stride=2 -> padded shape: (5, 5), output shape: (2, 2)\n",
            "[[  0. -16.]\n",
            " [-18.  -6.]]\n",
            "\n"
          ]
        }
      ],
      "source": [
        "for case in cases:\n",
        "    ip, op = apply_conv(img, kernel, pad=case['pad'], stride=case['stride'])\n",
        "    print(f\"pad={case['pad']}, stride={case['stride']} -> padded shape: {ip.shape}, output shape: {op.shape}\\n{op}\\n\")"
      ]
    },
    {
      "cell_type": "markdown",
      "id": "31f15423",
      "metadata": {
        "id": "31f15423"
      },
      "source": [
        "## 6) Pooling (Max & Average)\n",
        "Pooling reduces spatial size. For a pooling window `F` and stride `S`:\n",
        "\n",
        "- **Max pooling** picks the maximum value in each window.\n",
        "- **Average pooling** computes the mean in each window.\n",
        "\n",
        "Let's compute pooling by hand (2×2 window, stride=2) on a small feature map.\n"
      ]
    },
    {
      "cell_type": "code",
      "source": [
        "fm = np.array([\n",
        "    [1, 3, 2, 4],\n",
        "    [5, 6, 1, 0],\n",
        "    [2, 1, 2, 3],\n",
        "    [0, 1, 4, 2]\n",
        "], dtype=float)"
      ],
      "metadata": {
        "id": "YsP4T-vz9ieo"
      },
      "id": "YsP4T-vz9ieo",
      "execution_count": 20,
      "outputs": []
    },
    {
      "cell_type": "code",
      "source": [
        "print(\"Feature map (4x4):\\n\", fm)"
      ],
      "metadata": {
        "colab": {
          "base_uri": "https://localhost:8080/"
        },
        "id": "8m8o1MNU9kB3",
        "outputId": "be55cdd7-2e12-4385-b39a-4808b890d894"
      },
      "id": "8m8o1MNU9kB3",
      "execution_count": 21,
      "outputs": [
        {
          "output_type": "stream",
          "name": "stdout",
          "text": [
            "Feature map (4x4):\n",
            " [[1. 3. 2. 4.]\n",
            " [5. 6. 1. 0.]\n",
            " [2. 1. 2. 3.]\n",
            " [0. 1. 4. 2.]]\n"
          ]
        }
      ]
    },
    {
      "cell_type": "code",
      "source": [
        "def pool2d(x, size=2, stride=2, mode='max'):\n",
        "    out_h = (x.shape[0] - size) // stride + 1\n",
        "    out_w = (x.shape[1] - size) // stride + 1\n",
        "    out = np.zeros((out_h, out_w))\n",
        "    for i in range(out_h):\n",
        "        for j in range(out_w):\n",
        "            patch = x[i*stride:i*stride+size, j*stride:j*stride+size]\n",
        "            out[i,j] = patch.max() if mode=='max' else patch.mean()\n",
        "    return out"
      ],
      "metadata": {
        "id": "fUY9Qwhm9mgI"
      },
      "id": "fUY9Qwhm9mgI",
      "execution_count": 22,
      "outputs": []
    },
    {
      "cell_type": "code",
      "execution_count": 23,
      "id": "c6a42463",
      "metadata": {
        "colab": {
          "base_uri": "https://localhost:8080/"
        },
        "id": "c6a42463",
        "outputId": "2193597d-53ac-4efa-b7e2-9dcabad7f8a0"
      },
      "outputs": [
        {
          "output_type": "stream",
          "name": "stdout",
          "text": [
            "\n",
            "Max pooling (2x2, stride=2):\n",
            " [[6. 4.]\n",
            " [2. 4.]]\n",
            "\n",
            "Average pooling (2x2, stride=2):\n",
            " [[3.75 1.75]\n",
            " [1.   2.75]]\n"
          ]
        }
      ],
      "source": [
        "print(\"\\nMax pooling (2x2, stride=2):\\n\", pool2d(fm, size=2, stride=2, mode='max'))\n",
        "print(\"\\nAverage pooling (2x2, stride=2):\\n\", pool2d(fm, size=2, stride=2, mode='avg'))"
      ]
    },
    {
      "cell_type": "markdown",
      "id": "79b7f689",
      "metadata": {
        "id": "79b7f689"
      },
      "source": [
        "## 7) Activation functions — math & plots\n",
        "Common activations:\n",
        "- ReLU(x) = max(0, x)\n",
        "- Sigmoid(x) = 1 / (1 + exp(-x))\n",
        "- Tanh(x) = (exp(x)-exp(-x)) / (exp(x)+exp(-x))\n",
        "\n",
        "ReLU is common in CNNs because it avoids vanishing gradients for positive inputs and is cheap to compute.\n"
      ]
    },
    {
      "cell_type": "code",
      "source": [
        "import matplotlib.pyplot as plt\n",
        "import numpy as np\n",
        "x = np.linspace(-5,5,200)\n",
        "relu = np.maximum(0,x)\n",
        "sig = 1/(1+np.exp(-x))\n",
        "tanh = np.tanh(x)"
      ],
      "metadata": {
        "id": "ZgqdoVdi9qJv"
      },
      "id": "ZgqdoVdi9qJv",
      "execution_count": 24,
      "outputs": []
    },
    {
      "cell_type": "code",
      "execution_count": 25,
      "id": "6c8d5cae",
      "metadata": {
        "colab": {
          "base_uri": "https://localhost:8080/",
          "height": 452
        },
        "id": "6c8d5cae",
        "outputId": "939a0b9f-8519-4266-84af-258f3d86c1ad"
      },
      "outputs": [
        {
          "output_type": "display_data",
          "data": {
            "text/plain": [
              "<Figure size 640x480 with 1 Axes>"
            ],
            "image/png": "[encoded data removed]"
          },
          "metadata": {}
        }
      ],
      "source": [
        "plt.plot(x, relu, label='ReLU')\n",
        "plt.plot(x, sig, label='Sigmoid')\n",
        "plt.plot(x, tanh, label='Tanh')\n",
        "plt.axhline(0, color='k', linewidth=0.3)\n",
        "plt.legend(); plt.grid(True); plt.title('Activation Functions'); plt.show()"
      ]
    },
    {
      "cell_type": "markdown",
      "id": "8e157da1",
      "metadata": {
        "id": "8e157da1"
      },
      "source": [
        "## 8) Flatten → Fully Connected → Softmax\n",
        "After several conv/pool layers we flatten the feature maps into a vector and apply a fully connected layer:\n",
        "\n",
        "```\n",
        "z = W x + b\n",
        "```\n",
        "\n",
        "For multi-class classification we apply **softmax**:\n",
        "\n",
        "```\n",
        "softmax(z)_i = exp(z_i) / sum_j exp(z_j)\n",
        "```\n",
        "\n",
        "Let's show a tiny numeric example: flatten a 2×2×2 tensor → FC(3 units) → softmax.\n"
      ]
    },
    {
      "cell_type": "code",
      "source": [
        "# tiny feature maps (2x2 with 2 channels)\n",
        "fmaps = np.array([\n",
        "    [[1., 2.],\n",
        "     [3., 4.]],\n",
        "\n",
        "    [[0., 1.],\n",
        "     [1., 0.]]\n",
        "])  # shape (2, 2, 2)? We'll shape to (H,W,C)"
      ],
      "metadata": {
        "id": "4EFplnXb9teV"
      },
      "id": "4EFplnXb9teV",
      "execution_count": 26,
      "outputs": []
    },
    {
      "cell_type": "code",
      "source": [
        "fm = np.stack([fmaps[0], fmaps[1]], axis=-1)\n",
        "print(\"Feature maps (2x2x2):\\n\", fm)"
      ],
      "metadata": {
        "colab": {
          "base_uri": "https://localhost:8080/"
        },
        "id": "BhPknNDU9v-X",
        "outputId": "cfff5f0f-46bb-4a59-8622-fa57ed0cda10"
      },
      "id": "BhPknNDU9v-X",
      "execution_count": 27,
      "outputs": [
        {
          "output_type": "stream",
          "name": "stdout",
          "text": [
            "Feature maps (2x2x2):\n",
            " [[[1. 0.]\n",
            "  [2. 1.]]\n",
            "\n",
            " [[3. 1.]\n",
            "  [4. 0.]]]\n"
          ]
        }
      ]
    },
    {
      "cell_type": "code",
      "source": [
        "vec = fm.reshape(-1)  # flatten\n",
        "print(\"\\nFlattened vector:\", vec)"
      ],
      "metadata": {
        "colab": {
          "base_uri": "https://localhost:8080/"
        },
        "id": "RZZLPUlz9yWl",
        "outputId": "2deaed46-2a08-41f9-cec2-52a8cf6247e3"
      },
      "id": "RZZLPUlz9yWl",
      "execution_count": 28,
      "outputs": [
        {
          "output_type": "stream",
          "name": "stdout",
          "text": [
            "\n",
            "Flattened vector: [1. 0. 2. 1. 3. 1. 4. 0.]\n"
          ]
        }
      ]
    },
    {
      "cell_type": "code",
      "source": [
        "# small FC layer: 3 units\n",
        "W = np.random.randn(3, vec.size)*0.1 # shape (3, vec.size)\n",
        "b = np.random.randn(3)*0.01"
      ],
      "metadata": {
        "id": "8uZtH1Pb90N_"
      },
      "id": "8uZtH1Pb90N_",
      "execution_count": 32,
      "outputs": []
    },
    {
      "cell_type": "code",
      "source": [
        "z = W.dot(vec) + b\n",
        "print(\"\\nPre-activation (z):\", z)"
      ],
      "metadata": {
        "colab": {
          "base_uri": "https://localhost:8080/"
        },
        "id": "qNCXEDp092PU",
        "outputId": "530bde75-113d-42f3-e730-0fcff2fca798"
      },
      "id": "qNCXEDp092PU",
      "execution_count": 33,
      "outputs": [
        {
          "output_type": "stream",
          "name": "stdout",
          "text": [
            "\n",
            "Pre-activation (z): [0.566 0.978 0.296]\n"
          ]
        }
      ]
    },
    {
      "cell_type": "code",
      "source": [
        "def softmax(z):\n",
        "    e = np.exp(z - np.max(z))\n",
        "    return e / e.sum()"
      ],
      "metadata": {
        "id": "ndv0Lrir-EAN"
      },
      "id": "ndv0Lrir-EAN",
      "execution_count": 34,
      "outputs": []
    },
    {
      "cell_type": "code",
      "execution_count": 35,
      "id": "65eb3e69",
      "metadata": {
        "colab": {
          "base_uri": "https://localhost:8080/"
        },
        "id": "65eb3e69",
        "outputId": "9e7b396e-12a6-4a01-971e-459a6c880d73"
      },
      "outputs": [
        {
          "output_type": "stream",
          "name": "stdout",
          "text": [
            "\n",
            "Softmax probabilities: [0.305 0.461 0.233]\n"
          ]
        }
      ],
      "source": [
        "probs = softmax(z)\n",
        "print(\"\\nSoftmax probabilities:\", probs)"
      ]
    },
    {
      "cell_type": "markdown",
      "id": "03385925",
      "metadata": {
        "id": "03385925"
      },
      "source": [
        "## 9) End-to-end small numeric CNN (forward pass)\n",
        "We'll run a tiny forward pass: input (6×6 grayscale) → Conv(3x3, stride=1, pad=0) with 1 filter → ReLU → MaxPool(2x2) → Flatten → FC(2 classes) → Softmax.\n",
        "This will show every shape and small numeric outputs.\n"
      ]
    },
    {
      "cell_type": "code",
      "source": [
        "# small 6x6 input\n",
        "X = np.array([\n",
        " [1,2,3,0,1,2],\n",
        " [4,5,6,1,2,1],\n",
        " [7,8,9,0,3,1],\n",
        " [1,1,1,1,1,1],\n",
        " [0,0,0,2,2,2],\n",
        " [1,2,1,0,1,0]\n",
        "], dtype=float)"
      ],
      "metadata": {
        "id": "Ze67tPrQ-I_F"
      },
      "id": "Ze67tPrQ-I_F",
      "execution_count": 36,
      "outputs": []
    },
    {
      "cell_type": "code",
      "source": [
        "print(\"Input X shape:\", X.shape)"
      ],
      "metadata": {
        "colab": {
          "base_uri": "https://localhost:8080/"
        },
        "id": "Y9K6QU28-KfT",
        "outputId": "3c0f752d-f000-4298-b7f7-68279a87057d"
      },
      "id": "Y9K6QU28-KfT",
      "execution_count": 37,
      "outputs": [
        {
          "output_type": "stream",
          "name": "stdout",
          "text": [
            "Input X shape: (6, 6)\n"
          ]
        }
      ]
    },
    {
      "cell_type": "code",
      "source": [
        "# conv filter 3x3\n",
        "K = np.array([\n",
        " [1,0,-1],\n",
        " [1,0,-1],\n",
        " [1,0,-1]\n",
        "], dtype=float)  # simple vertical edge detector"
      ],
      "metadata": {
        "id": "ODAwRbcB-MqW"
      },
      "id": "ODAwRbcB-MqW",
      "execution_count": 38,
      "outputs": []
    },
    {
      "cell_type": "code",
      "source": [
        "# conv\n",
        "def conv2d_single_filter(X, K, pad=0, stride=1):\n",
        "    if pad>0:\n",
        "        Xp = np.pad(X, ((pad,pad),(pad,pad)), 'constant')\n",
        "    else:\n",
        "        Xp = X.copy()\n",
        "    H,W = Xp.shape\n",
        "    F = K.shape[0]\n",
        "    out_h = (H - F)//stride + 1\n",
        "    out_w = (W - F)//stride + 1\n",
        "    out = np.zeros((out_h, out_w))\n",
        "    for i in range(out_h):\n",
        "        for j in range(out_w):\n",
        "            out[i,j] = (Xp[i*stride:i*stride+F, j*stride:j*stride+F] * K).sum()\n",
        "    return out"
      ],
      "metadata": {
        "id": "lcpKfXUn-PBF"
      },
      "id": "lcpKfXUn-PBF",
      "execution_count": 39,
      "outputs": []
    },
    {
      "cell_type": "code",
      "source": [
        "conv_out = conv2d_single_filter(X, K, pad=0, stride=1)\n",
        "print(\"\\nConv output:\\n\", conv_out)"
      ],
      "metadata": {
        "colab": {
          "base_uri": "https://localhost:8080/"
        },
        "id": "cwGOW3vz-RIQ",
        "outputId": "32a45377-48c6-4a5f-ec5e-ab1928de84d9"
      },
      "id": "cwGOW3vz-RIQ",
      "execution_count": 40,
      "outputs": [
        {
          "output_type": "stream",
          "name": "stdout",
          "text": [
            "\n",
            "Conv output:\n",
            " [[-6. 14. 12. -3.]\n",
            " [-4. 12. 10. -1.]\n",
            " [-2.  6.  4. -1.]\n",
            " [ 0.  0. -2.  0.]]\n"
          ]
        }
      ]
    },
    {
      "cell_type": "code",
      "source": [
        "# ReLU\n",
        "relu_out = np.maximum(0, conv_out)\n",
        "print(\"\\nAfter ReLU:\\n\", relu_out)"
      ],
      "metadata": {
        "colab": {
          "base_uri": "https://localhost:8080/"
        },
        "id": "h3hOJY17-S_p",
        "outputId": "e83aba35-0c0d-4b34-f3a2-b351f44e797a"
      },
      "id": "h3hOJY17-S_p",
      "execution_count": 41,
      "outputs": [
        {
          "output_type": "stream",
          "name": "stdout",
          "text": [
            "\n",
            "After ReLU:\n",
            " [[ 0. 14. 12.  0.]\n",
            " [ 0. 12. 10.  0.]\n",
            " [ 0.  6.  4.  0.]\n",
            " [ 0.  0.  0.  0.]]\n"
          ]
        }
      ]
    },
    {
      "cell_type": "code",
      "source": [
        "# MaxPool 2x2 stride 2\n",
        "def pool2d_local(x, size=2, stride=2, mode='max'):\n",
        "    out_h = (x.shape[0] - size) // stride + 1\n",
        "    out_w = (x.shape[1] - size) // stride + 1\n",
        "    out = np.zeros((out_h, out_w))\n",
        "    for i in range(out_h):\n",
        "        for j in range(out_w):\n",
        "            patch = x[i*stride:i*stride+size, j*stride:j*stride+size]\n",
        "            out[i,j] = patch.max() if mode=='max' else patch.mean()\n",
        "    return out"
      ],
      "metadata": {
        "id": "sI4YE7OG-Vdz"
      },
      "id": "sI4YE7OG-Vdz",
      "execution_count": 42,
      "outputs": []
    },
    {
      "cell_type": "code",
      "source": [
        "pool_out = pool2d_local(relu_out, size=2, stride=2, mode='max')\n",
        "print(\"\\nAfter MaxPool:\\n\", pool_out)"
      ],
      "metadata": {
        "colab": {
          "base_uri": "https://localhost:8080/"
        },
        "id": "0dS4C-ra-XX2",
        "outputId": "04716dc0-99a0-472b-cb74-8be5e0ec626c"
      },
      "id": "0dS4C-ra-XX2",
      "execution_count": 43,
      "outputs": [
        {
          "output_type": "stream",
          "name": "stdout",
          "text": [
            "\n",
            "After MaxPool:\n",
            " [[14. 12.]\n",
            " [ 6.  4.]]\n"
          ]
        }
      ]
    },
    {
      "cell_type": "code",
      "source": [
        "# Flatten\n",
        "vec = pool_out.reshape(-1)\n",
        "print(\"\\nFlattened vector:\", vec)"
      ],
      "metadata": {
        "colab": {
          "base_uri": "https://localhost:8080/"
        },
        "id": "keuz4dO--Zge",
        "outputId": "ef80dbc7-89c1-47d3-e6f9-30839d9717a1"
      },
      "id": "keuz4dO--Zge",
      "execution_count": 44,
      "outputs": [
        {
          "output_type": "stream",
          "name": "stdout",
          "text": [
            "\n",
            "Flattened vector: [14. 12.  6.  4.]\n"
          ]
        }
      ]
    },
    {
      "cell_type": "code",
      "execution_count": 45,
      "id": "a945a1da",
      "metadata": {
        "colab": {
          "base_uri": "https://localhost:8080/"
        },
        "id": "a945a1da",
        "outputId": "639ccd72-c543-4ab0-ad45-74c4a294fc78"
      },
      "outputs": [
        {
          "output_type": "stream",
          "name": "stdout",
          "text": [
            "\n",
            "Output probs (2 classes): [0.991 0.009]\n"
          ]
        }
      ],
      "source": [
        "# FC -> 2 classes\n",
        "W_fc = np.random.randn(2, vec.size)*0.1\n",
        "b_fc = np.random.randn(2)*0.01\n",
        "z = W_fc.dot(vec) + b_fc\n",
        "probs = softmax(z)\n",
        "print(\"\\nOutput probs (2 classes):\", probs)"
      ]
    }
  ],
  "metadata": {
    "colab": {
      "provenance": []
    },
    "language_info": {
      "name": "python"
    },
    "kernelspec": {
      "name": "python3",
      "display_name": "Python 3"
    }
  },
  "nbformat": 4,
  "nbformat_minor": 5
}